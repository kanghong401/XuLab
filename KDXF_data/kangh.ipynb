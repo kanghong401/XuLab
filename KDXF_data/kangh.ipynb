{
 "cells": [
  {
   "cell_type": "markdown",
   "metadata": {},
   "source": [
    "统计数据长度"
   ]
  },
  {
   "cell_type": "code",
   "execution_count": 2,
   "metadata": {},
   "outputs": [
    {
     "name": "stdout",
     "output_type": "stream",
     "text": [
      "第一行的长度为: 181\n",
      "总共有 50000 行文本\n",
      "平均长度为: 900.67\n",
      "最短行的长度为: 8\n",
      "最长行的长度为: 46909，位于第 37969 行\n"
     ]
    }
   ],
   "source": [
    "def analyze_txt_file(file_path):\n",
    "    lengths = []\n",
    "    \n",
    "    # 读取文件内容并计算每行的长度\n",
    "    with open(file_path, 'r', encoding='utf-8') as file:\n",
    "        for line in file:\n",
    "            line_length = len(line.strip())  # 去除首尾空格\n",
    "            if line_length > 0:  # 过滤掉空行\n",
    "                lengths.append(line_length)\n",
    "    \n",
    "    # 计算平均长度、最小长度和最大长度\n",
    "    if lengths:\n",
    "        avg_length = sum(lengths) / len(lengths)\n",
    "        min_length = min(lengths)\n",
    "        max_length = max(lengths)\n",
    "        max_line_number = lengths.index(max_length) + 1  # 行数从1开始\n",
    "        \n",
    "        print(f\"第一行的长度为: {lengths[0]}\")\n",
    "        print(f\"总共有 {len(lengths)} 行文本\")\n",
    "        print(f\"平均长度为: {avg_length:.2f}\")\n",
    "        print(f\"最短行的长度为: {min_length}\")\n",
    "        print(f\"最长行的长度为: {max_length}，位于第 {max_line_number} 行\")\n",
    "    else:\n",
    "        print(\"没有有效的文本行\")\n",
    "\n",
    "# 调用函数并传入你的文件路径\n",
    "file_path = '/home/extra1T/kangh/app/kh/corpus.txt'\n",
    "analyze_txt_file(file_path)\n"
   ]
  },
  {
   "cell_type": "markdown",
   "metadata": {},
   "source": [
    "BM25实现"
   ]
  },
  {
   "cell_type": "code",
   "execution_count": null,
   "metadata": {},
   "outputs": [],
   "source": [
    "import jieba\n",
    "from rank_bm25 import BM25Okapi\n",
    "from langchain.embeddings import HuggingFaceEmbeddings\n",
    "from langchain.vectorstores import FAISS\n",
    "from langchain.text_splitter import RecursiveCharacterTextSplitter\n",
    "from langchain.document_loaders import TextLoader\n",
    "import torch\n",
    "# 加载并处理文本\n",
    "def load_and_process_txt(file_path):\n",
    "    loader = TextLoader(file_path, encoding='utf8')\n",
    "    documents = loader.load()\n",
    "    \n",
    "    # 分割文本，保持上下文一致性\n",
    "    text_splitter = RecursiveCharacterTextSplitter(chunk_size=500, chunk_overlap=50)\n",
    "    docs = text_splitter.split_documents(documents)\n",
    "    return docs\n",
    "\n",
    "# 进行分词处理\n",
    "def process_for_bm25(docs):\n",
    "    # 对每个文档进行分词，得到一个二维数组\n",
    "    tokenized_docs = [jieba.lcut(doc.page_content) for doc in docs]\n",
    "    return tokenized_docs\n",
    "\n",
    "# 文档路径\n",
    "file_path = '/home/extra1T/kangh/app/kh/corpus.txt'\n",
    "\n",
    "# 加载并分割文本\n",
    "docs = load_and_process_txt(file_path)\n",
    "# print(\"dsad:\",len(docs))\n",
    "# print(\"dsads:\",docs[0].page_content)\n",
    "# 对文档进行分词，准备给 BM25 使用\n",
    "tokenized_docs = process_for_bm25(docs)\n",
    "\n",
    "# print(\"dsad:\",tokenized_docs[0])\n",
    "\n",
    "# 初始化 BM25 模型\n",
    "bm25 = BM25Okapi(tokenized_docs)\n",
    "\n",
    "# 输入查询，查询的内容需要分词\n",
    "query = \"第8届南方新丝路模特大赛的招募活动是在哪里举行的？\"\n",
    "query_tokens = jieba.lcut(query)\n",
    "\n",
    "# 使用 BM25 进行检索，得到每个文档的相关性分数\n",
    "doc_scores = bm25.get_scores(query_tokens)\n",
    "print(len(doc_scores))\n",
    "\n",
    "# 设置要返回的 topk 个文档\n",
    "topk = 3  # 例如返回前3个相似答案\n",
    "\n",
    "# 获取分数最高的 topk 个文档索引\n",
    "topk_indices = doc_scores.argsort()[-topk:][::-1]\n",
    "\n",
    "# 获取分数最高的 topk 个文档内容\n",
    "topk_matches = [docs[idx].page_content for idx in topk_indices]\n",
    "\n",
    "# 输出 topk 个最相关的文档内容\n",
    "print(\"最相关的文档内容：\")\n",
    "for i, match in enumerate(topk_matches, 1):\n",
    "    print(f\"Top {i}:\\n{match}\\n\")\n"
   ]
  }
 ],
 "metadata": {
  "kernelspec": {
   "display_name": "Python 3",
   "language": "python",
   "name": "python3"
  },
  "language_info": {
   "codemirror_mode": {
    "name": "ipython",
    "version": 3
   },
   "file_extension": ".py",
   "mimetype": "text/x-python",
   "name": "python",
   "nbconvert_exporter": "python",
   "pygments_lexer": "ipython3",
   "version": "3.10.4"
  }
 },
 "nbformat": 4,
 "nbformat_minor": 2
}
